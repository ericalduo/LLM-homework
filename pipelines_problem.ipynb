{
 "cells": [
  {
   "cell_type": "code",
   "execution_count": null,
   "id": "6e04390b-f4d9-4369-89fc-998b43ded1e6",
   "metadata": {},
   "outputs": [],
   "source": [
    "from transformers import AutoTokenizer, AutoModel\n",
    "\n",
    "#huggingface下载的离线模型\n",
    "model_name = \"/root/autodl-tmp/model/bert-base-chinese\"\n",
    "\n",
    "tokenizer = AutoTokenizer.from_pretrained(model_name)\n",
    "model = AutoModel.from_pretrained(model_name)"
   ]
  },
  {
   "cell_type": "code",
   "execution_count": null,
   "id": "1bbdd8f6-f96c-4c39-8100-7eb49279c035",
   "metadata": {},
   "outputs": [],
   "source": [
    "len(tokenizer.vocab.keys())"
   ]
  },
  {
   "cell_type": "code",
   "execution_count": null,
   "id": "685c991e-bb5a-42c2-a5c4-ea872ef91893",
   "metadata": {},
   "outputs": [],
   "source": [
    "from itertools import islice\n",
    "\n",
    "# 使用 islice 查看词表部分内容\n",
    "for key, value in islice(tokenizer.vocab.items(), 10):\n",
    "    print(f\"{key}: {value}\")"
   ]
  },
  {
   "cell_type": "code",
   "execution_count": null,
   "id": "79604416-94de-4167-8edf-10665e96c354",
   "metadata": {},
   "outputs": [],
   "source": [
    "new_tokens = [\"天干\", \"地支\"]"
   ]
  },
  {
   "cell_type": "code",
   "execution_count": null,
   "id": "32fd9402-858b-4869-9ed6-f27e982aea1a",
   "metadata": {},
   "outputs": [],
   "source": [
    "# 将集合作差结果添加到词表中\n",
    "new_tokens = set(new_tokens) - set(tokenizer.vocab.keys())"
   ]
  },
  {
   "cell_type": "code",
   "execution_count": null,
   "id": "0b38c499-ca35-4d13-8ac9-1bd7404c486e",
   "metadata": {},
   "outputs": [],
   "source": [
    "new_tokens"
   ]
  },
  {
   "cell_type": "code",
   "execution_count": null,
   "id": "bae72ad2-39c0-4e1a-9fac-dbd6eebe5958",
   "metadata": {},
   "outputs": [],
   "source": [
    "tokenizer.add_tokens(list(new_tokens))"
   ]
  },
  {
   "cell_type": "code",
   "execution_count": null,
   "id": "5c9dd553-3d83-4e5f-a73c-8a483ad7b795",
   "metadata": {},
   "outputs": [],
   "source": [
    "# 新增加了2个Token，词表总数由 21128 增加到 21130\n",
    "len(tokenizer.vocab.keys())"
   ]
  },
  {
   "cell_type": "code",
   "execution_count": null,
   "id": "facbf47f-3d56-4b81-a2bd-1e5c1d6ba1e4",
   "metadata": {},
   "outputs": [],
   "source": [
    "tokenizer.save_pretrained(\"/root/autodl-tmp/model/new-bert-base-chinese\")"
   ]
  },
  {
   "cell_type": "code",
   "execution_count": null,
   "id": "0d9569d4-aa12-42bd-9fa9-8b485aabe224",
   "metadata": {},
   "outputs": [],
   "source": [
    "model.save_pretrained(\"/root/autodl-tmp/model/new-bert-base-chinese\", safe_serialization=False)"
   ]
  },
  {
   "cell_type": "code",
   "execution_count": 2,
   "id": "1a490e10-f33a-4260-919a-e0bfffdd1f38",
   "metadata": {},
   "outputs": [
    {
     "name": "stderr",
     "output_type": "stream",
     "text": [
      "Special tokens have been added in the vocabulary, make sure the associated word embeddings are fine-tuned or trained.\n",
      "Some weights of BertForMaskedLM were not initialized from the model checkpoint at /root/autodl-tmp/model/new-bert-base-chinese and are newly initialized: ['cls.predictions.bias', 'cls.predictions.decoder.bias', 'cls.predictions.transform.LayerNorm.bias', 'cls.predictions.transform.LayerNorm.weight', 'cls.predictions.transform.dense.bias', 'cls.predictions.transform.dense.weight']\n",
      "You should probably TRAIN this model on a down-stream task to be able to use it for predictions and inference.\n"
     ]
    },
    {
     "name": "stdout",
     "output_type": "stream",
     "text": [
      "Filled text: 人民是✪可战胜的\n",
      "Filled text: 人民是00㎡可战胜的\n",
      "Filled text: 人民是嗆可战胜的\n",
      "Filled text: 人民是6m可战胜的\n",
      "Filled text: 人民是chanel可战胜的\n"
     ]
    }
   ],
   "source": [
    "from transformers import AutoTokenizer, AutoModelForMaskedLM, BertModel\n",
    "import torch\n",
    "\n",
    "model_name = \"/root/autodl-tmp/model/new-bert-base-chinese\"\n",
    "text = \"人民是[MASK]可战胜的\"\n",
    "\n",
    "tokenizer = AutoTokenizer.from_pretrained(model_name)\n",
    "model = AutoModelForMaskedLM.from_pretrained(model_name)\n",
    "\n",
    "# 步骤3: 使用tokenizer处理文本\n",
    "input_ids = tokenizer.encode(text, return_tensors=\"pt\")\n",
    "# 找到[MASK]标记的索引\n",
    "mask_token_index = torch.where(input_ids == tokenizer.mask_token_id)[1]\n",
    "\n",
    "# 步骤4: 将处理后的文本输入模型进行预测\n",
    "with torch.no_grad():\n",
    "    outputs = model(input_ids)\n",
    "    predictions = outputs.logits\n",
    "\n",
    "# 获取掩码位置的预测\n",
    "mask_token_logits = predictions[0, mask_token_index, :]\n",
    "top_token_ids = mask_token_logits.topk(5).indices[0].tolist()\n",
    "\n",
    "# 步骤5: 解析模型的输出\n",
    "for token_id in top_token_ids:\n",
    "    predicted_token = tokenizer.decode([token_id])\n",
    "    # 用预测的词替换[MASK]\n",
    "    new_text = text.replace(tokenizer.mask_token, predicted_token)\n",
    "    print(f\"Filled text: {new_text}\")"
   ]
  },
  {
   "cell_type": "code",
   "execution_count": null,
   "id": "e2bdc5ba-f3b8-4538-8a98-5feb72fe2790",
   "metadata": {},
   "outputs": [],
   "source": []
  }
 ],
 "metadata": {
  "kernelspec": {
   "display_name": "quick-start.ipy",
   "language": "python",
   "name": "quick-start.ipy"
  },
  "language_info": {
   "codemirror_mode": {
    "name": "ipython",
    "version": 3
   },
   "file_extension": ".py",
   "mimetype": "text/x-python",
   "name": "python",
   "nbconvert_exporter": "python",
   "pygments_lexer": "ipython3",
   "version": "3.10.14"
  }
 },
 "nbformat": 4,
 "nbformat_minor": 5
}
